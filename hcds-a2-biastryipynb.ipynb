{
 "cells": [
  {
   "cell_type": "markdown",
   "metadata": {},
   "source": [
    "# Bias on Wikipedia\n",
    "\n",
    "## Todd Schultz\n",
    "Due: November 2, 2017\n",
    "\n",
    "For this assignment (https://wiki.communitydata.cc/HCDS_(Fall_2017)/Assignments#A2:_Bias_in_data), your job is to analyze what the nature of political articles on Wikipedia - both their existence, and their quality - can tell us about bias in Wikipedia's content."
   ]
  },
  {
   "cell_type": "markdown",
   "metadata": {},
   "source": [
    "# Imports"
   ]
  },
  {
   "cell_type": "code",
   "execution_count": 1,
   "metadata": {
    "collapsed": true
   },
   "outputs": [],
   "source": [
    "import numpy as np\n",
    "import pandas as pd\n",
    "import matplotlib.pyplot as plt\n",
    "import requests\n",
    "import json\n",
    "\n",
    "%matplotlib notebook"
   ]
  },
  {
   "cell_type": "markdown",
   "metadata": {},
   "source": [
    "# Import data of politicians by country\n",
    "\n",
    "Import the data of policitcians by country provided by Oliver Keyes found at https://figshare.com/articles/Untitled_Item/5513449."
   ]
  },
  {
   "cell_type": "code",
   "execution_count": 2,
   "metadata": {},
   "outputs": [
    {
     "data": {
      "text/html": [
       "<div>\n",
       "<table border=\"1\" class=\"dataframe\">\n",
       "  <thead>\n",
       "    <tr style=\"text-align: right;\">\n",
       "      <th></th>\n",
       "      <th>country</th>\n",
       "      <th>article_name</th>\n",
       "      <th>revision_id</th>\n",
       "    </tr>\n",
       "  </thead>\n",
       "  <tbody>\n",
       "    <tr>\n",
       "      <th>0</th>\n",
       "      <td>Abkhazia</td>\n",
       "      <td>Zurab Achba</td>\n",
       "      <td>802551672</td>\n",
       "    </tr>\n",
       "    <tr>\n",
       "      <th>1</th>\n",
       "      <td>Abkhazia</td>\n",
       "      <td>Garri Aiba</td>\n",
       "      <td>774499188</td>\n",
       "    </tr>\n",
       "    <tr>\n",
       "      <th>2</th>\n",
       "      <td>Abkhazia</td>\n",
       "      <td>Zaur Avidzba</td>\n",
       "      <td>803841397</td>\n",
       "    </tr>\n",
       "    <tr>\n",
       "      <th>3</th>\n",
       "      <td>Abkhazia</td>\n",
       "      <td>Raul Eshba</td>\n",
       "      <td>789818648</td>\n",
       "    </tr>\n",
       "  </tbody>\n",
       "</table>\n",
       "</div>"
      ],
      "text/plain": [
       "    country  article_name  revision_id\n",
       "0  Abkhazia   Zurab Achba    802551672\n",
       "1  Abkhazia    Garri Aiba    774499188\n",
       "2  Abkhazia  Zaur Avidzba    803841397\n",
       "3  Abkhazia    Raul Eshba    789818648"
      ]
     },
     "execution_count": 2,
     "metadata": {},
     "output_type": "execute_result"
    }
   ],
   "source": [
    "politicianFile = 'PolbyCountry_data.csv'\n",
    "politicianNames = pd.read_csv(politicianFile)\n",
    "\n",
    "# rename variables\n",
    "politicianNames.rename(columns = {'page':'article_name'}, inplace = True)\n",
    "politicianNames.rename(columns = {'last_edit':'revision_id'}, inplace = True)\n",
    "politicianNames[0:4]"
   ]
  },
  {
   "cell_type": "code",
   "execution_count": 3,
   "metadata": {},
   "outputs": [
    {
     "data": {
      "text/plain": [
       "(47997, 3)"
      ]
     },
     "execution_count": 3,
     "metadata": {},
     "output_type": "execute_result"
    }
   ],
   "source": [
    "politicianNames.shape"
   ]
  },
  {
   "cell_type": "markdown",
   "metadata": {},
   "source": [
    "# Import population by country\n",
    "\n",
    "Import the population by country provide PRB found at http://www.prb.org/DataFinder/Topic/Rankings.aspx?ind=14. The data is from mid-2015."
   ]
  },
  {
   "cell_type": "code",
   "execution_count": 4,
   "metadata": {},
   "outputs": [
    {
     "data": {
      "text/html": [
       "<div>\n",
       "<table border=\"1\" class=\"dataframe\">\n",
       "  <thead>\n",
       "    <tr style=\"text-align: right;\">\n",
       "      <th></th>\n",
       "      <th>country</th>\n",
       "      <th>population</th>\n",
       "    </tr>\n",
       "  </thead>\n",
       "  <tbody>\n",
       "    <tr>\n",
       "      <th>0</th>\n",
       "      <td>Afghanistan</td>\n",
       "      <td>32,247,000</td>\n",
       "    </tr>\n",
       "    <tr>\n",
       "      <th>1</th>\n",
       "      <td>Albania</td>\n",
       "      <td>2,892,000</td>\n",
       "    </tr>\n",
       "    <tr>\n",
       "      <th>2</th>\n",
       "      <td>Algeria</td>\n",
       "      <td>39,948,000</td>\n",
       "    </tr>\n",
       "    <tr>\n",
       "      <th>3</th>\n",
       "      <td>Andorra</td>\n",
       "      <td>78,000</td>\n",
       "    </tr>\n",
       "    <tr>\n",
       "      <th>4</th>\n",
       "      <td>Angola</td>\n",
       "      <td>25,000,000</td>\n",
       "    </tr>\n",
       "  </tbody>\n",
       "</table>\n",
       "</div>"
      ],
      "text/plain": [
       "       country  population\n",
       "0  Afghanistan  32,247,000\n",
       "1      Albania   2,892,000\n",
       "2      Algeria  39,948,000\n",
       "3      Andorra      78,000\n",
       "4       Angola  25,000,000"
      ]
     },
     "execution_count": 4,
     "metadata": {},
     "output_type": "execute_result"
    }
   ],
   "source": [
    "countryFile = 'Population Mid-2015.csv'\n",
    "tempDF = pd.read_csv(countryFile, header=1)\n",
    "countryPop = pd.DataFrame(data={'country': tempDF['Location'], 'population': tempDF['Data']})\n",
    "\n",
    "countryPop[0:5]"
   ]
  },
  {
   "cell_type": "markdown",
   "metadata": {},
   "source": [
    "# Combined data\n",
    "Combine the data frames into a single data frame with the following variables. \n",
    "Column, country, article_name, revision_id, article_quality, population\n",
    "Make a placeholder, empty variable for article_quality to be filled in next. "
   ]
  },
  {
   "cell_type": "code",
   "execution_count": 5,
   "metadata": {},
   "outputs": [
    {
     "data": {
      "text/html": [
       "<div>\n",
       "<table border=\"1\" class=\"dataframe\">\n",
       "  <thead>\n",
       "    <tr style=\"text-align: right;\">\n",
       "      <th></th>\n",
       "      <th>country</th>\n",
       "      <th>article_name</th>\n",
       "      <th>revision_id</th>\n",
       "      <th>article_quality</th>\n",
       "      <th>population</th>\n",
       "    </tr>\n",
       "  </thead>\n",
       "  <tbody>\n",
       "    <tr>\n",
       "      <th>0</th>\n",
       "      <td>Afghanistan</td>\n",
       "      <td>Laghman Province</td>\n",
       "      <td>778690357</td>\n",
       "      <td></td>\n",
       "      <td>32,247,000</td>\n",
       "    </tr>\n",
       "    <tr>\n",
       "      <th>1</th>\n",
       "      <td>Afghanistan</td>\n",
       "      <td>Roqia Abubakr</td>\n",
       "      <td>779839643</td>\n",
       "      <td></td>\n",
       "      <td>32,247,000</td>\n",
       "    </tr>\n",
       "    <tr>\n",
       "      <th>2</th>\n",
       "      <td>Afghanistan</td>\n",
       "      <td>Sitara Achakzai</td>\n",
       "      <td>803055503</td>\n",
       "      <td></td>\n",
       "      <td>32,247,000</td>\n",
       "    </tr>\n",
       "    <tr>\n",
       "      <th>3</th>\n",
       "      <td>Afghanistan</td>\n",
       "      <td>Khadija Ahrari</td>\n",
       "      <td>805920528</td>\n",
       "      <td></td>\n",
       "      <td>32,247,000</td>\n",
       "    </tr>\n",
       "    <tr>\n",
       "      <th>4</th>\n",
       "      <td>Afghanistan</td>\n",
       "      <td>Rahila Bibi Kobra Alamshahi</td>\n",
       "      <td>717743144</td>\n",
       "      <td></td>\n",
       "      <td>32,247,000</td>\n",
       "    </tr>\n",
       "  </tbody>\n",
       "</table>\n",
       "</div>"
      ],
      "text/plain": [
       "       country                 article_name  revision_id article_quality  \\\n",
       "0  Afghanistan             Laghman Province    778690357                   \n",
       "1  Afghanistan                Roqia Abubakr    779839643                   \n",
       "2  Afghanistan              Sitara Achakzai    803055503                   \n",
       "3  Afghanistan               Khadija Ahrari    805920528                   \n",
       "4  Afghanistan  Rahila Bibi Kobra Alamshahi    717743144                   \n",
       "\n",
       "   population  \n",
       "0  32,247,000  \n",
       "1  32,247,000  \n",
       "2  32,247,000  \n",
       "3  32,247,000  \n",
       "4  32,247,000  "
      ]
     },
     "execution_count": 5,
     "metadata": {},
     "output_type": "execute_result"
    }
   ],
   "source": [
    "# First add placeholder to politicianNames dataframe for article quality\n",
    "politicianNames = politicianNames.assign(article_quality = \"\")\n",
    "article_quality = politicianNames['article_quality']\n",
    "\n",
    "# Next, join politicianNames with countryPop\n",
    "politicData = politicianNames.merge(countryPop,how = 'inner')\n",
    "\n",
    "#politicianNames[0:5]\n",
    "politicData[0:5]"
   ]
  },
  {
   "cell_type": "code",
   "execution_count": 6,
   "metadata": {},
   "outputs": [
    {
     "data": {
      "text/plain": [
       "(46348, 5)"
      ]
     },
     "execution_count": 6,
     "metadata": {},
     "output_type": "execute_result"
    }
   ],
   "source": [
    "politicData.shape"
   ]
  },
  {
   "cell_type": "markdown",
   "metadata": {},
   "source": [
    "# ORES article quality data\n",
    "Wikimedia API endpoint for a machine learning system called ORES (\"Objective Revision Evaluation Service\") found at https://www.mediawiki.org/wiki/ORES and documentaiton found at https://ores.wikimedia.org/v3/#!/scoring/get_v3_scores_context_revid_model. ORES estimates the quality of an article (at a particular point in time), and assigns a series of probabilities that the article is in one of 6 quality categories. The options are, from best to worst:\n",
    "\n",
    "FA - Featured article\n",
    "GA - Good article\n",
    "B - B-class article\n",
    "C - C-class article\n",
    "Start - Start-class article\n",
    "Stub - Stub-class article\n",
    "\n",
    "\n",
    "Below is an example of how to make a request through the ORES system in Python to find out the current quality of the article on [Aaron Halfaker](https://en.wikipedia.org/wiki/Aaron_Halfaker) (the person who created ORES):"
   ]
  },
  {
   "cell_type": "code",
   "execution_count": null,
   "metadata": {},
   "outputs": [
    {
     "name": "stdout",
     "output_type": "stream",
     "text": [
      "0\n"
     ]
    }
   ],
   "source": [
    "# ORES\n",
    "endpoint = 'https://ores.wikimedia.org/v3/scores/{project}/{revid}/{model}'\n",
    "headers = {'User-Agent' : 'https://github.com/your_github_username', 'From' : 'your_uw_email@uw.edu'}\n",
    "\n",
    "for irevid in range(0, politicData.shape[0]):\n",
    "    revidstr = str(politicData['revision_id'][irevid])\n",
    "    #print(revidstr)\n",
    "    params = {'project' : 'enwiki',\n",
    "              'model' : 'wp10',\n",
    "              'revid' : revidstr\n",
    "              }\n",
    "    \n",
    "    try:\n",
    "        api_call = requests.get(endpoint.format(**params))\n",
    "        response = api_call.json()\n",
    "        #print(json.dumps(response, indent=4, sort_keys=True))\n",
    "        \n",
    "        # Create data frame and add numeric values for the plotting variable\n",
    "        politicData.loc[irevid,'article_quality'] = response['enwiki']['scores'][revidstr]['wp10']['score']['prediction']\n",
    "        #print(response['enwiki']['scores'][revidstr]['wp10']['score']['prediction'])\n",
    "    except:\n",
    "        print('Error at ' + str(irevid))\n",
    "    \n",
    "    if irevid % 500 == 0:\n",
    "        print(irevid)\n",
    "\n",
    "# Write out csv file\n",
    "politicData.to_csv('en-wikipedia_bias_2015.csv', index=False)\n",
    "politicData[0:4]"
   ]
  },
  {
   "cell_type": "code",
   "execution_count": 11,
   "metadata": {},
   "outputs": [
    {
     "data": {
      "text/plain": [
       "46348"
      ]
     },
     "execution_count": 11,
     "metadata": {},
     "output_type": "execute_result"
    }
   ],
   "source": [
    "politicData.shape[0]\n",
    "#politicData[-5:]"
   ]
  },
  {
   "cell_type": "markdown",
   "metadata": {},
   "source": [
    "Importing the other data is just a matter of reading CSV files in! (and for the R programmers - we'll have an R example up as soon as the Hub supports the language)."
   ]
  },
  {
   "cell_type": "code",
   "execution_count": 3,
   "metadata": {
    "collapsed": true
   },
   "outputs": [],
   "source": [
    "## getting the data from the CSV files\n",
    "import csv\n",
    "\n",
    "data = []\n",
    "with open('page_data.csv') as csvfile:\n",
    "    reader = csv.reader(csvfile)\n",
    "    for row in reader:\n",
    "        data.append([row[0],row[1],row[2]])"
   ]
  },
  {
   "cell_type": "code",
   "execution_count": 5,
   "metadata": {},
   "outputs": [
    {
     "name": "stdout",
     "output_type": "stream",
     "text": [
      "['Albania', 'Aćif Hadžiahmetović', '742544909']\n"
     ]
    }
   ],
   "source": [
    "print(data[782])"
   ]
  },
  {
   "cell_type": "code",
   "execution_count": null,
   "metadata": {
    "collapsed": true
   },
   "outputs": [],
   "source": []
  }
 ],
 "metadata": {
  "anaconda-cloud": {},
  "kernelspec": {
   "display_name": "Python 3",
   "language": "python",
   "name": "python3"
  },
  "language_info": {
   "codemirror_mode": {
    "name": "ipython",
    "version": 3
   },
   "file_extension": ".py",
   "mimetype": "text/x-python",
   "name": "python",
   "nbconvert_exporter": "python",
   "pygments_lexer": "ipython3",
   "version": "3.6.2"
  }
 },
 "nbformat": 4,
 "nbformat_minor": 2
}
