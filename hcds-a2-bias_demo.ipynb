{
 "cells": [
  {
   "cell_type": "markdown",
   "metadata": {},
   "source": [
    "# Bias on Wikipedia\n",
    "\n",
    "For this assignment (https://wiki.communitydata.cc/HCDS_(Fall_2017)/Assignments#A2:_Bias_in_data), your job is to analyze what the nature of political articles on Wikipedia - both their existence, and their quality - can tell us about bias in Wikipedia's content.\n",
    "\n",
    "# Example ORES request\n",
    "\n",
    "Below is an example of how to make a request through the ORES system in Python to find out the current quality of the article on [Aaron Halfaker](https://en.wikipedia.org/wiki/Aaron_Halfaker) (the person who created ORES):"
   ]
  },
  {
   "cell_type": "code",
   "execution_count": 1,
   "metadata": {},
   "outputs": [
    {
     "name": "stdout",
     "output_type": "stream",
     "text": [
      "{\n",
      "    \"enwiki\": {\n",
      "        \"models\": {\n",
      "            \"wp10\": {\n",
      "                \"version\": \"0.5.0\"\n",
      "            }\n",
      "        },\n",
      "        \"scores\": {\n",
      "            \"797882120\": {\n",
      "                \"wp10\": {\n",
      "                    \"score\": {\n",
      "                        \"prediction\": \"Start\",\n",
      "                        \"probability\": {\n",
      "                            \"B\": 0.0325056273665757,\n",
      "                            \"C\": 0.10161634736900718,\n",
      "                            \"FA\": 0.003680032854794337,\n",
      "                            \"GA\": 0.021044772033944954,\n",
      "                            \"Start\": 0.8081343649161963,\n",
      "                            \"Stub\": 0.033018855459481376\n",
      "                        }\n",
      "                    }\n",
      "                }\n",
      "            }\n",
      "        }\n",
      "    }\n",
      "}\n"
     ]
    }
   ],
   "source": [
    "import requests\n",
    "import json\n",
    "\n",
    "endpoint = 'https://ores.wikimedia.org/v3/scores/{project}/{revid}/{model}'\n",
    "headers = {'User-Agent' : 'https://github.com/your_github_username', 'From' : 'your_uw_email@uw.edu'}\n",
    "\n",
    "params = {'project' : 'enwiki',\n",
    "          'model' : 'wp10',\n",
    "          'revid' : '797882120'\n",
    "          }\n",
    "\n",
    "api_call = requests.get(endpoint.format(**params))\n",
    "response = api_call.json()\n",
    "print(json.dumps(response, indent=4, sort_keys=True))\n"
   ]
  },
  {
   "cell_type": "markdown",
   "metadata": {},
   "source": [
    "Importing the other data is just a matter of reading CSV files in! (and for the R programmers - we'll have an R example up as soon as the Hub supports the language)."
   ]
  },
  {
   "cell_type": "code",
   "execution_count": 3,
   "metadata": {},
   "outputs": [],
   "source": [
    "## getting the data from the CSV files\n",
    "import csv\n",
    "\n",
    "data = []\n",
    "with open('page_data.csv') as csvfile:\n",
    "    reader = csv.reader(csvfile)\n",
    "    for row in reader:\n",
    "        data.append([row[0],row[1],row[2]])"
   ]
  },
  {
   "cell_type": "code",
   "execution_count": 5,
   "metadata": {},
   "outputs": [
    {
     "name": "stdout",
     "output_type": "stream",
     "text": [
      "['Albania', 'Aćif Hadžiahmetović', '742544909']\n"
     ]
    }
   ],
   "source": [
    "print(data[782])"
   ]
  },
  {
   "cell_type": "code",
   "execution_count": null,
   "metadata": {},
   "outputs": [],
   "source": []
  }
 ],
 "metadata": {
  "kernelspec": {
   "display_name": "Python 3",
   "language": "python",
   "name": "python3"
  },
  "language_info": {
   "codemirror_mode": {
    "name": "ipython",
    "version": 3
   },
   "file_extension": ".py",
   "mimetype": "text/x-python",
   "name": "python",
   "nbconvert_exporter": "python",
   "pygments_lexer": "ipython3",
   "version": "3.6.2"
  }
 },
 "nbformat": 4,
 "nbformat_minor": 2
}
